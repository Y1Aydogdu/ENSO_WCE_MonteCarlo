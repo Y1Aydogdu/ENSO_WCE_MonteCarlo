{
 "cells": [
  {
   "cell_type": "code",
   "execution_count": 1,
   "metadata": {
    "id": "t-SPeGyZXVLw"
   },
   "outputs": [],
   "source": [
    "import numpy as np\n",
    "import matplotlib.pyplot as plt\n",
    "import random\n",
    "import math\n",
    "import scipy.stats as stats\n",
    "import scipy.io "
   ]
  },
  {
   "cell_type": "code",
   "execution_count": 2,
   "metadata": {
    "id": "NduxF333XvY8"
   },
   "outputs": [],
   "source": [
    "LO = 1.2\n",
    "\n",
    "NO = 600\n",
    "\n",
    "xO = np.linspace(0,LO,NO)\n",
    "dxO = xO[1] - xO[0]\n",
    "\n",
    "t_f = 9.6\n",
    "t_N = 9600\n",
    "t = np.linspace(0,t_f,t_N)\n",
    "dt = t[1] - t[0]\n",
    "\n",
    "W = 10\n",
    "\n",
    "\n",
    "c1 = 0.5\n",
    "\n",
    "\n",
    "re = 0.5\n",
    "rw = 0.5\n",
    "\n",
    "KO = np.zeros((W,t_N,NO))\n",
    "RO = np.zeros((W,t_N,NO))\n",
    "\n",
    "\n",
    "KO[0,0,:] = np.linspace(2, 1 ,NO)\n",
    "RO[0,0,0] = (1/rw)*KO[0,0,0]\n",
    "RO[0,0,NO-1] = re*KO[0,0,NO-1]\n",
    "RO[0,0,:] = np.linspace(RO[0,0,0] , RO[0,0,NO-1]  ,NO)\n",
    "\n",
    "\n",
    "sigma = 1 \n",
    "\n"
   ]
  },
  {
   "cell_type": "code",
   "execution_count": 3,
   "metadata": {
    "colab": {
     "base_uri": "https://localhost:8080/"
    },
    "id": "gA9aTXtBNNIq",
    "outputId": "5098237f-c143-42e3-af34-bb4d70acd5f6"
   },
   "outputs": [
    {
     "data": {
      "text/plain": [
       "0.49921866861131364"
      ]
     },
     "execution_count": 3,
     "metadata": {},
     "output_type": "execute_result"
    }
   ],
   "source": [
    "dt/dxO"
   ]
  },
  {
   "cell_type": "code",
   "execution_count": 4,
   "metadata": {
    "id": "5fEpHVHJXxaz"
   },
   "outputs": [],
   "source": [
    "for i in range(t_N-1):\n",
    "    for w in range(0,W):\n",
    "            if w == 0 :\n",
    "                for j in range(1,NO):\n",
    "                    KO[w,i+1,j] = KO[w,i,j] - (c1)*(dt/dxO)*((KO[w,i,j] - KO[w,i,j-1])) \n",
    "                    KO[w,i+1,0] = KO[w,i,0] - (c1)*(dt/dxO)*(KO[w,i,0] - rw*RO[w,i,0])  \n",
    "                for j in range(0,NO-1):\n",
    "                    RO[w,i+1,j] = RO[w,i,j] + (c1/3)*(dt/dxO)*((RO[w,i,j+1] - RO[w,i,j])) \n",
    "                    RO[w,i+1,NO-1] = RO[w,i,NO-1] + (c1/3)*(dt/dxO)*(re*KO[w,i,NO-1] - RO[w,i,NO-1]) \n",
    "            elif w == 1 :          \n",
    "                for j in range(1,NO):\n",
    "                    KO[w,i+1,j] = KO[w,i,j] - (c1)*(dt/dxO)*((KO[w,i,j] - KO[w,i,j-1])) + sigma*dt*(1/np.sqrt(t_f))\n",
    "                    KO[w,i+1,0] = KO[w,i,0] - (c1)*(dt/dxO)*(KO[w,i,0] - rw*RO[w,i,0])  + sigma*dt*(1/np.sqrt(t_f))  \n",
    "                for j in range(0,NO-1):\n",
    "                    RO[w,i+1,j] = RO[w,i,j] + (c1/3)*(dt/dxO)*((RO[w,i,j+1] - RO[w,i,j])) + sigma*dt*(1/np.sqrt(t_f))\n",
    "                    RO[w,i+1,NO-1] = RO[w,i,NO-1] + (c1/3)*(dt/dxO)*(re*KO[w,i,NO-1] - RO[w,i,NO-1]) + sigma*dt*(1/np.sqrt(t_f))\n",
    "            else:\n",
    "                for j in range(1,NO):\n",
    "                    KO[w,i+1,j] = KO[w,i,j] - (c1)*(dt/dxO)*((KO[w,i,j] - KO[w,i,j-1])) + sigma*dt*np.sqrt(2/t_f)*np.cos(np.pi*(w-1)*t[i]/t_f)\n",
    "                    KO[w,i+1,0] = KO[w,i,0] - (c1)*(dt/dxO)*(KO[w,i,0] - rw*RO[w,i,0])  + sigma*dt*np.sqrt(2/t_f)*np.cos(np.pi*(w-1)*t[i]/t_f)  \n",
    "                for j in range(0,NO-1):\n",
    "                    RO[w,i+1,j] = RO[w,i,j] + (c1/3)*(dt/dxO)*((RO[w,i,j+1] - RO[w,i,j])) + sigma*dt*np.sqrt(2/t_f)*np.cos(np.pi*(w-1)*t[i]/t_f)\n",
    "                    RO[w,i+1,NO-1] = RO[w,i,NO-1] + (c1/3)*(dt/dxO)*(re*KO[w,i,NO-1] - RO[w,i,NO-1]) + sigma*dt*np.sqrt(2/t_f)*np.cos(np.pi*(w-1)*t[i]/t_f)"
   ]
  },
  {
   "cell_type": "code",
   "execution_count": 5,
   "metadata": {
    "id": "mMc51AcDvOeA"
   },
   "outputs": [],
   "source": [
    "scipy.io.savemat('ToyProblem_Kelvin.mat', {'Kelvin': KO}) \n",
    "scipy.io.savemat('ToyProblem_Rossby.mat', {'Rossby': RO})"
   ]
  },
  {
   "cell_type": "code",
   "execution_count": 10,
   "metadata": {
    "id": "vAENV0dL3iHW"
   },
   "outputs": [],
   "source": [
    "K_variance_W = np.zeros((t_N,NO))\n",
    "R_variance_W = np.zeros((t_N,NO))\n",
    "\n",
    "\n",
    "for i in range(t_N):\n",
    "    for j in range(0,NO):    \n",
    "        for w in range(1,W):\n",
    "            K_variance_W[i,j] += KO[w,i,j]**2\n",
    "            R_variance_W[i,j] += RO[w,i,j]**2  "
   ]
  },
  {
   "cell_type": "code",
   "execution_count": 11,
   "metadata": {},
   "outputs": [],
   "source": [
    "scipy.io.savemat('Ocean_Problem_Kelvin_Variance.mat', {'Kelvin_variance': K_variance_W}) \n",
    "scipy.io.savemat('Ocean_Problem_Rossby_Variance.mat', {'Rossby_variance': R_variance_W})"
   ]
  }
 ],
 "metadata": {
  "colab": {
   "collapsed_sections": [],
   "provenance": []
  },
  "kernelspec": {
   "display_name": "Python 3",
   "language": "python",
   "name": "python3"
  },
  "language_info": {
   "codemirror_mode": {
    "name": "ipython",
    "version": 3
   },
   "file_extension": ".py",
   "mimetype": "text/x-python",
   "name": "python",
   "nbconvert_exporter": "python",
   "pygments_lexer": "ipython3",
   "version": "3.10.4"
  }
 },
 "nbformat": 4,
 "nbformat_minor": 4
}
